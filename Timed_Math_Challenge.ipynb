{
  "nbformat": 4,
  "nbformat_minor": 0,
  "metadata": {
    "colab": {
      "provenance": [],
      "authorship_tag": "ABX9TyOJWS7I5O5ft7ekeVqz3jat",
      "include_colab_link": true
    },
    "kernelspec": {
      "name": "python3",
      "display_name": "Python 3"
    },
    "language_info": {
      "name": "python"
    }
  },
  "cells": [
    {
      "cell_type": "markdown",
      "metadata": {
        "id": "view-in-github",
        "colab_type": "text"
      },
      "source": [
        "<a href=\"https://colab.research.google.com/github/lardw15/Python-/blob/main/Timed_Math_Challenge.ipynb\" target=\"_parent\"><img src=\"https://colab.research.google.com/assets/colab-badge.svg\" alt=\"Open In Colab\"/></a>"
      ]
    },
    {
      "cell_type": "code",
      "execution_count": 1,
      "metadata": {
        "colab": {
          "base_uri": "https://localhost:8080/"
        },
        "id": "Rq3s0QZ3_1fc",
        "outputId": "06d3d16a-5006-4744-fd4f-dcd173f54fcb"
      },
      "outputs": [
        {
          "output_type": "stream",
          "name": "stdout",
          "text": [
            "Press any key to start!\n",
            "------------------------\n",
            "Problem #1: 4 * 5 = 20\n",
            "Problem #2: 5 + 7 = 12\n",
            "Problem #3: 4 * 10 = 5\n",
            "Problem #3: 4 * 10 = 40\n",
            "Problem #4: 4 * 7 = 28\n",
            "Problem #5: 12 - 10 = 2\n",
            "Problem #6: 12 - 7 = 0\n",
            "Problem #6: 12 - 7 = 5\n",
            "Problem #7: 3 * 12 = 36\n",
            "Problem #8: 6 - 5 = 1\n",
            "Problem #9: 10 + 5 = 15\n",
            "Problem #10: 8 * 5 = 40\n",
            "------------------------\n",
            "Nice work! You finished in 32.27103781700134 seconds.\n"
          ]
        }
      ],
      "source": [
        "#timed math challenge\n",
        "\n",
        "import random\n",
        "import time\n",
        "\n",
        "OPERATORS = [\"+\", \"-\", \"*\"]\n",
        "MIN_OPERAND = 3\n",
        "MAX_OPERAND = 12\n",
        "TOTAL_PROBLEMS = 10\n",
        "\n",
        "\n",
        "def generate_problem():\n",
        "    left = random.randint(MIN_OPERAND, MAX_OPERAND)\n",
        "    right = random.randint(MIN_OPERAND, MAX_OPERAND)\n",
        "    operator = random.choice(OPERATORS)\n",
        "\n",
        "    expr = str(left) + \" \" + operator + \" \" + str(right)\n",
        "    answer = eval(expr)\n",
        "    return expr, answer\n",
        "\n",
        "\n",
        "wrong = 0\n",
        "input(\"Press any key to start!\")\n",
        "print(\"------------------------\")\n",
        "\n",
        "start_time = time.time()\n",
        "\n",
        "for i in range(TOTAL_PROBLEMS):\n",
        "    expr, answer = generate_problem()\n",
        "    while True:\n",
        "        guess = input(\"Problem #\" + str(i + 1) + \": \" + expr + \" = \")\n",
        "        if guess == str(answer):\n",
        "            break\n",
        "        wrong += 1\n",
        "\n",
        "end_time = time.time()\n",
        "total_time = end_time - start_time\n",
        "\n",
        "print(\"------------------------\")\n",
        "print(\"Nice work! You finished in\", total_time, \"seconds.\")\n"
      ]
    }
  ]
}