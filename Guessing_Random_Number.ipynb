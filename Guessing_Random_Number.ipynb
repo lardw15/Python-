{
  "nbformat": 4,
  "nbformat_minor": 0,
  "metadata": {
    "colab": {
      "provenance": [],
      "authorship_tag": "ABX9TyPtW8YcuXZqYlxRANfCtwjx",
      "include_colab_link": true
    },
    "kernelspec": {
      "name": "python3",
      "display_name": "Python 3"
    },
    "language_info": {
      "name": "python"
    }
  },
  "cells": [
    {
      "cell_type": "markdown",
      "metadata": {
        "id": "view-in-github",
        "colab_type": "text"
      },
      "source": [
        "<a href=\"https://colab.research.google.com/github/lardw15/Python-/blob/main/Guessing_Random_Number.ipynb\" target=\"_parent\"><img src=\"https://colab.research.google.com/assets/colab-badge.svg\" alt=\"Open In Colab\"/></a>"
      ]
    },
    {
      "cell_type": "code",
      "execution_count": 1,
      "metadata": {
        "colab": {
          "base_uri": "https://localhost:8080/"
        },
        "id": "1xc064tf_ZuM",
        "outputId": "b65a815e-2c53-4332-f740-116451ad2288"
      },
      "outputs": [
        {
          "output_type": "stream",
          "name": "stdout",
          "text": [
            "Guess the number between 1 and 100: 99\n",
            "Too high!\n",
            "Guess the number between 1 and 100: 55\n",
            "Too low!\n",
            "Guess the number between 1 and 100: 65\n",
            "Too low!\n",
            "Guess the number between 1 and 100: 75\n",
            "Too low!\n",
            "Guess the number between 1 and 100: 85\n",
            "Too high!\n",
            "Guess the number between 1 and 100: 80\n",
            "Too low!\n",
            "Guess the number between 1 and 100: 82\n",
            "Too low!\n",
            "Guess the number between 1 and 100: 83\n",
            "Congrats! You guessed the number!\n"
          ]
        }
      ],
      "source": [
        "import random\n",
        "\n",
        "\n",
        "number_to_guess = random.randint(1, 100)\n",
        "while True:\n",
        "   try:\n",
        "       guess = int(input('Guess the number between 1 and 100: '))\n",
        "       if guess < number_to_guess:\n",
        "           print('Too low!')\n",
        "       elif guess > number_to_guess:\n",
        "           print('Too high!')\n",
        "       else:\n",
        "           print('Congrats! You guessed the number!')\n",
        "           break\n",
        "   except ValueError:\n",
        "       print('Please enter a valid number')\n",
        "\n",
        "\n",
        "\n",
        "\n",
        "       print('Please enter a valid number')"
      ]
    }
  ]
}