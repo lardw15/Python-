{
  "nbformat": 4,
  "nbformat_minor": 0,
  "metadata": {
    "colab": {
      "provenance": [],
      "authorship_tag": "ABX9TyN9lot7YdxIGfBOp3l/49JS",
      "include_colab_link": true
    },
    "kernelspec": {
      "name": "python3",
      "display_name": "Python 3"
    },
    "language_info": {
      "name": "python"
    }
  },
  "cells": [
    {
      "cell_type": "markdown",
      "metadata": {
        "id": "view-in-github",
        "colab_type": "text"
      },
      "source": [
        "<a href=\"https://colab.research.google.com/github/lardw15/Python-/blob/main/Choose_Your_Own_Adventure_Game.ipynb\" target=\"_parent\"><img src=\"https://colab.research.google.com/assets/colab-badge.svg\" alt=\"Open In Colab\"/></a>"
      ]
    },
    {
      "cell_type": "code",
      "execution_count": 3,
      "metadata": {
        "colab": {
          "base_uri": "https://localhost:8080/"
        },
        "id": "eRTmoqjq8vFA",
        "outputId": "d46216a6-2270-48f6-f02b-23bb7c47fd73"
      },
      "outputs": [
        {
          "output_type": "stream",
          "name": "stdout",
          "text": [
            "Type your name: Larry\n",
            "Welcome Larry to this adventure!\n",
            "You are on a dirt road, it has come to an end and you can go left or right. Which way would you like to go: right\n",
            "You come to a bridge, it looks wobbly, do you want to cross it or head back (cross/back): cross\n",
            "You cross the bridge and meet a stranger. Do you talk to them? (yes/no): yes\n",
            "You talk to the stranger and they give you gold. You WIN!\n"
          ]
        }
      ],
      "source": [
        "name = input('Type your name: ')\n",
        "print('Welcome', name, 'to this adventure!')\n",
        "\n",
        "answer = input(\n",
        "    'You are on a dirt road, it has come to an end and you can go left or right. Which way would you like to go: ').lower()\n",
        "\n",
        "if answer == 'left':\n",
        "    answer = input(\n",
        "        'You come to a river, you can walkaround it or swim across? Type walk to walk around and swim to swim across: ')\n",
        "    if answer == 'swim':\n",
        "        print('You swam across and were eaten by an alligator')\n",
        "    elif answer == 'walk':\n",
        "        print('You walked for many miles, ran out of water and you lost the game')\n",
        "    else:\n",
        "        print('Not a valid option. You lose.')\n",
        "\n",
        "elif answer == 'right':\n",
        "    answer = input(\n",
        "        \"You come to a bridge, it looks wobbly, do you want to cross it or head back (cross/back): \")\n",
        "\n",
        "    if answer == 'back':\n",
        "        print('You go back and lose.')\n",
        "    elif answer == 'cross':\n",
        "        answer = input(\n",
        "            \"You cross the bridge and meet a stranger. Do you talk to them? (yes/no): \")\n",
        "\n",
        "        if answer == 'yes':\n",
        "            print('You talk to the stranger and they give you gold. You WIN!')\n",
        "        elif answer == 'no':\n",
        "            print('You ignore the stranger and they are offended and you lose!')\n",
        "        else:\n",
        "            print('Not a valid option. You lose.')\n",
        "else:\n",
        "    print('Not a valid option. You lose.')"
      ]
    }
  ]
}