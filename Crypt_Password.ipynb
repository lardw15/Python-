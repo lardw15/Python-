{
  "nbformat": 4,
  "nbformat_minor": 0,
  "metadata": {
    "colab": {
      "provenance": [],
      "authorship_tag": "ABX9TyNqvI2V6JdnTNhNQL4K0mTT",
      "include_colab_link": true
    },
    "kernelspec": {
      "name": "python3",
      "display_name": "Python 3"
    },
    "language_info": {
      "name": "python"
    }
  },
  "cells": [
    {
      "cell_type": "markdown",
      "metadata": {
        "id": "view-in-github",
        "colab_type": "text"
      },
      "source": [
        "<a href=\"https://colab.research.google.com/github/lardw15/Python-/blob/main/Crypt_Password.ipynb\" target=\"_parent\"><img src=\"https://colab.research.google.com/assets/colab-badge.svg\" alt=\"Open In Colab\"/></a>"
      ]
    },
    {
      "cell_type": "code",
      "execution_count": 4,
      "metadata": {
        "colab": {
          "base_uri": "https://localhost:8080/"
        },
        "id": "RJPnK5-c8qr7",
        "outputId": "c3d25aa5-5ea9-49ca-8bc6-cdaa9c142bea"
      },
      "outputs": [
        {
          "name": "stdout",
          "output_type": "stream",
          "text": [
            "Would you like to add a new password or view existing ones (view or add), press q to quit?add\n",
            "Account Name: Samsara\n",
            "Password: Samsara1\n",
            "Would you like to add a new password or view existing ones (view or add), press q to quit?add\n",
            "Account Name: Sales\n",
            "Password: Engineer\n",
            "Would you like to add a new password or view existing ones (view or add), press q to quit?view\n",
            "User: Samsara | Password: Samsara1\n",
            "User: Sales | Password: Engineer\n",
            "Would you like to add a new password or view existing ones (view or add), press q to quit?q\n"
          ]
        }
      ],
      "source": [
        "from cryptography.fernet import Fernet\n",
        "\n",
        "\n",
        "def write_key():\n",
        "    key = Fernet.generate_key()\n",
        "    with open('key.key', 'wb') as key_file:\n",
        "        key_file.write(key)\n",
        "\n",
        "\n",
        "write_key()\n",
        "\n",
        "\n",
        "def load_key():\n",
        "    file = open('key.key', 'rb')\n",
        "    key = file.read()\n",
        "    file.close()\n",
        "    return key\n",
        "\n",
        "\n",
        "key = load_key()\n",
        "fer = Fernet(key)\n",
        "\n",
        "\n",
        "def view():\n",
        "    with open('passwords.txt', 'r') as f:\n",
        "        for line in f.readlines():\n",
        "            data = line.rstrip()\n",
        "            user, passw = data.split('|')\n",
        "            print('User:', user, '| Password:',\n",
        "                  fer.decrypt(passw.encode()).decode())\n",
        "\n",
        "\n",
        "def add():\n",
        "    name = input('Account Name: ')\n",
        "    pwd = input('Password: ')\n",
        "\n",
        "    with open('passwords.txt', 'a') as f:\n",
        "        f.write(name + '|' + fer.encrypt(pwd.encode()).decode() + '\\n')\n",
        "\n",
        "\n",
        "while True:\n",
        "    mode = input(\n",
        "        'Would you like to add a new password or view existing ones (view or add), press q to quit?').lower()\n",
        "    if mode == 'q':\n",
        "        break\n",
        "\n",
        "    if mode == 'view':\n",
        "        view()\n",
        "    elif mode == 'add':\n",
        "        add()\n",
        "    else:\n",
        "        print('Invalid mode.')\n",
        "        continue"
      ]
    }
  ]
}