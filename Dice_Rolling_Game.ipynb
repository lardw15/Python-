{
  "nbformat": 4,
  "nbformat_minor": 0,
  "metadata": {
    "colab": {
      "provenance": [],
      "authorship_tag": "ABX9TyPDi4mg05tWfl3Fi/nQR089",
      "include_colab_link": true
    },
    "kernelspec": {
      "name": "python3",
      "display_name": "Python 3"
    },
    "language_info": {
      "name": "python"
    }
  },
  "cells": [
    {
      "cell_type": "markdown",
      "metadata": {
        "id": "view-in-github",
        "colab_type": "text"
      },
      "source": [
        "<a href=\"https://colab.research.google.com/github/lardw15/Python-/blob/main/Dice_Rolling_Game.ipynb\" target=\"_parent\"><img src=\"https://colab.research.google.com/assets/colab-badge.svg\" alt=\"Open In Colab\"/></a>"
      ]
    },
    {
      "cell_type": "code",
      "execution_count": 1,
      "metadata": {
        "colab": {
          "base_uri": "https://localhost:8080/"
        },
        "id": "uA943oUo_Aaq",
        "outputId": "af4956c8-0577-4f9e-f8fc-720af28fc848"
      },
      "outputs": [
        {
          "output_type": "stream",
          "name": "stdout",
          "text": [
            "Roll the dice? (y/n): y\n",
            "(6, 2)\n",
            "Roll the dice? (y/n): y\n",
            "(2, 2)\n",
            "Roll the dice? (y/n): y\n",
            "(3, 4)\n",
            "Roll the dice? (y/n): y\n",
            "(2, 1)\n",
            "Roll the dice? (y/n): y\n",
            "(5, 4)\n",
            "Roll the dice? (y/n): n\n",
            "Thanks for playing!\n"
          ]
        }
      ],
      "source": [
        "#Dice Rolling Game\n",
        "\n",
        "\n",
        "import random\n",
        "\n",
        "\n",
        "while True:\n",
        "   choice = input('Roll the dice? (y/n): ').lower()\n",
        "   if choice == 'y':\n",
        "       die1 = random.randint(1, 6)\n",
        "       die2 = random.randint(1, 6)\n",
        "       print(f'({die1}, {die2})')\n",
        "   elif choice == 'n':\n",
        "       print('Thanks for playing!')\n",
        "       break\n",
        "   else:\n",
        "       print('Invalid choice!')"
      ]
    }
  ]
}