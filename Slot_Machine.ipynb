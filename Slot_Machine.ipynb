{
  "nbformat": 4,
  "nbformat_minor": 0,
  "metadata": {
    "colab": {
      "provenance": [],
      "authorship_tag": "ABX9TyNsBb11C5V52YlEWaNhZgO1",
      "include_colab_link": true
    },
    "kernelspec": {
      "name": "python3",
      "display_name": "Python 3"
    },
    "language_info": {
      "name": "python"
    }
  },
  "cells": [
    {
      "cell_type": "markdown",
      "metadata": {
        "id": "view-in-github",
        "colab_type": "text"
      },
      "source": [
        "<a href=\"https://colab.research.google.com/github/lardw15/Python-/blob/main/Slot_Machine.ipynb\" target=\"_parent\"><img src=\"https://colab.research.google.com/assets/colab-badge.svg\" alt=\"Open In Colab\"/></a>"
      ]
    },
    {
      "cell_type": "code",
      "source": [
        "import random\n",
        "\n",
        "MAX_LINES = 3\n",
        "MAX_BET = 100\n",
        "MIN_BET = 1\n",
        "\n",
        "ROWS = 3\n",
        "COLS = 3\n",
        "\n",
        "symbol_count = {\n",
        "    \"A\": 2, \"B\": 4, \"C\": 6, \"D\": 8\n",
        "}\n",
        "\n",
        "\n",
        "def get_slot_machine_spin(rows, cols, symbols):\n",
        "    all_symbols = []\n",
        "    for symbol, symbol_count in symbols.items():\n",
        "        for _ in range(symbol_count):\n",
        "            all_symbols.append(symbol)\n",
        "\n",
        "    columns = []\n",
        "    for _ in range(cols):\n",
        "        column = []\n",
        "        current_symbols = all_symbols[:]\n",
        "        for _ in range(rows):\n",
        "            value = random.choice(current_symbols)\n",
        "            current_symbols.remove(value)\n",
        "            column.append(value)\n",
        "        columns.append(column)\n",
        "    return columns\n",
        "\n",
        "\n",
        "def print_slot_machine(columns):\n",
        "    for row in range(len(columns[0])):\n",
        "        for i, column in enumerate(columns):\n",
        "            if i != len(columns) - 1:\n",
        "                print(column[row], end=\" | \")\n",
        "            else:\n",
        "                print(column[row], end=\"\")\n",
        "        print()\n",
        "\n",
        "\n",
        "def deposit():\n",
        "    while True:\n",
        "        amount = input(\"What would you like to deposit? $\")\n",
        "        if amount.isdigit():\n",
        "            amount = int(amount)\n",
        "            if amount > 0:\n",
        "                break\n",
        "            else:\n",
        "                print(\"Amount must be greater than 0.\")\n",
        "        else:\n",
        "            print(\"Please enter a number.\")\n",
        "    return amount\n",
        "\n",
        "\n",
        "def get_number_of_lines():\n",
        "    while True:\n",
        "        lines = input(\n",
        "            \"Enter the number of lines to bet on (1-\" +\n",
        "            str(MAX_LINES) + \")? \")\n",
        "        if lines.isdigit():\n",
        "            lines = int(lines)\n",
        "            if 1 <= lines <= MAX_LINES:\n",
        "                break\n",
        "            else:\n",
        "                print(\"Enter a valid number of lines.\")\n",
        "        else:\n",
        "            print(\"Please enter a number.\")\n",
        "    return lines\n",
        "\n",
        "\n",
        "def get_bet():\n",
        "    while True:\n",
        "        amount = input(\"What would you like to bet on each line? $\")\n",
        "        if amount.isdigit():\n",
        "            amount = int(amount)\n",
        "            if MIN_BET <= amount <= MAX_BET:\n",
        "                break\n",
        "            else:\n",
        "                print(f\"Amount must be between ${MIN_BET} - ${MAX_BET}.\")\n",
        "        else:\n",
        "            print(\"Please enter a number.\")\n",
        "\n",
        "    return amount\n",
        "\n",
        "\n",
        "def main():\n",
        "    balance = deposit()\n",
        "    lines = get_number_of_lines()\n",
        "    while True:\n",
        "        bet = get_bet()\n",
        "        total_bet = bet * lines\n",
        "\n",
        "        if total_bet > balance:\n",
        "            print(\n",
        "                f\"You do not have enough to bet that amount. Your current balance is: ${balance}\")\n",
        "        else:\n",
        "            break\n",
        "    print(\n",
        "        f\"You are betting ${bet} on {lines} lines. Total bet is equal to: ${total_bet}\")\n",
        "\n",
        "    slots = get_slot_machine_spin(ROWS, COLS, symbol_count)\n",
        "    print_slot_machine(slots)\n",
        "\n",
        "\n",
        "main()\n"
      ],
      "metadata": {
        "colab": {
          "base_uri": "https://localhost:8080/"
        },
        "id": "XXyyXCZ2GMYL",
        "outputId": "9ec58b6f-cd3b-4fe8-a60a-a9ac8463b583"
      },
      "execution_count": 3,
      "outputs": [
        {
          "output_type": "stream",
          "name": "stdout",
          "text": [
            "What would you like to deposit? $100\n",
            "Enter the number of lines to bet on (1-3)? 3\n",
            "What would you like to bet on each line? $30\n",
            "You are betting $30 on 3 lines. Total bet is equal to: $90\n",
            "D | B | D\n",
            "C | D | A\n",
            "D | B | D\n"
          ]
        }
      ]
    }
  ]
}